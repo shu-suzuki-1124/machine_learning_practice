{
 "cells": [
  {
   "cell_type": "markdown",
   "id": "adc74eeb-86d7-4fb1-ac48-0161a2315d1a",
   "metadata": {},
   "source": [
    "## hold out"
   ]
  },
  {
   "cell_type": "code",
   "execution_count": 34,
   "id": "51a83dea-dc43-4c5e-b114-0a8ed7b822b3",
   "metadata": {},
   "outputs": [
    {
     "data": {
      "text/plain": [
       "0.955080898861715"
      ]
     },
     "execution_count": 34,
     "metadata": {},
     "output_type": "execute_result"
    }
   ],
   "source": [
    "import seaborn as sns\n",
    "import numpy as np\n",
    "import pandas as pd\n",
    "from sklearn.model_selection import train_test_split\n",
    "from sklearn.preprocessing import StandardScaler\n",
    "from sklearn.linear_model import LinearRegression\n",
    "from sklearn.metrics import mean_squared_error\n",
    "from sklearn.linear_model import LinearRegression\n",
    "\n",
    "df = sns.load_dataset('tips')\n",
    "y_col = 'tip'\n",
    "X = df.drop(columns=[y_col])\n",
    "\n",
    "# 数値のカラムのリストだけ抽出\n",
    "numeric_cols = X.select_dtypes(include=np.number).columns.to_list()\n",
    "X = pd.get_dummies(X, drop_first=True)\n",
    "y = df[y_col]\n",
    "\n",
    "# 学習データとテストデータの分割\n",
    "X_train, X_test, y_train, y_test = train_test_split(X, y, test_size=0.3, random_state=0)\n",
    "\n",
    "# 標準化(数値のカラムだけ)\n",
    "scaler = StandardScaler()\n",
    "X_train_scaled = X_train.copy()\n",
    "X_train_scaled[numeric_cols] = scaler.fit_transform(X_train[numeric_cols])\n",
    "\n",
    "\n",
    "# テストデータの標準化\n",
    "X_test_scaled = X_test.copy()\n",
    "X_test_scaled[numeric_cols] = scaler.transform(X_test[numeric_cols])\n",
    "\n",
    "# 線形回帰モデル学習\n",
    "model = LinearRegression()\n",
    "model.fit(X_train_scaled, y_train)\n",
    "y_pred = model.predict(X_test_scaled)\n",
    "\n",
    "# 精度評価（MSE）\n",
    "mean_squared_error(y_test, y_pred) # np.mean(np.square(y_test - y_pred))\n"
   ]
  },
  {
   "cell_type": "markdown",
   "id": "a83f054f-dca7-4efd-ad0f-e3b1ca5e62c3",
   "metadata": {},
   "source": [
    "## LOOCV(Leave One Out Cross Validation)"
   ]
  },
  {
   "cell_type": "code",
   "execution_count": 46,
   "id": "3bdcf96e-cfc6-4f2e-b128-64740794ac35",
   "metadata": {},
   "outputs": [],
   "source": [
    "from sklearn.model_selection import LeaveOneOut\n",
    "from sklearn.linear_model import LinearRegression\n",
    "from sklearn.metrics import mean_squared_error\n",
    "\n",
    "# データ準備\n",
    "X = df['total_bill'].values.reshape(-1, 1)\n",
    "y = df['tip']\n",
    "\n",
    "loo = LeaveOneOut()\n",
    "model = LinearRegression()\n",
    "\n",
    "mse_list = []\n",
    "# ジェネレータを返す\n",
    "for train_index, test_index in loo.split(X):\n",
    "    X_train, X_test = X[train_index], X[test_index]\n",
    "    y_train, y_test = y[train_index], y[test_index]\n",
    "    \n",
    "    # model学習\n",
    "    model.fit(X_train, y_train)\n",
    "    # テストデータの予測\n",
    "    y_pred = model.predict(X_test)\n",
    "    mse = mean_squared_error(y_test, y_pred)\n",
    "    mse_list.append(mse)"
   ]
  },
  {
   "cell_type": "code",
   "execution_count": 49,
   "id": "4bd99437-1ea7-454b-97bb-93c56e11e8ce",
   "metadata": {},
   "outputs": [
    {
     "name": "stdout",
     "output_type": "stream",
     "text": [
      "1.0675673489857438\n",
      "2.0997944551776313\n"
     ]
    }
   ],
   "source": [
    "print(np.mean(mse_list))\n",
    "print(np.std(mse_list))"
   ]
  },
  {
   "cell_type": "code",
   "execution_count": 56,
   "id": "8261b518-a713-4e44-a755-2af22a74e655",
   "metadata": {},
   "outputs": [
    {
     "name": "stdout",
     "output_type": "stream",
     "text": [
      "1.0675673489857438\n",
      "-2.0997944551776313\n"
     ]
    }
   ],
   "source": [
    "from sklearn.model_selection import cross_val_score\n",
    "cv = LeaveOneOut()\n",
    "scores = cross_val_score(model, X, y, cv=cv, scoring='neg_mean_squared_error')\n",
    "\n",
    "print(-np.mean(scores))\n",
    "print(-np.std(scores))"
   ]
  },
  {
   "cell_type": "markdown",
   "id": "d6b4f1db-374f-4f5b-b778-0c0c0483395d",
   "metadata": {},
   "source": [
    "## k-Fold CV(K-Fold Cross Validation)"
   ]
  },
  {
   "cell_type": "code",
   "execution_count": 66,
   "id": "3208154b-3fee-483d-9f5e-a920557b7394",
   "metadata": {},
   "outputs": [],
   "source": [
    "from sklearn.model_selection import KFold\n",
    "\n",
    "k = 5\n",
    "cv = KFold(n_splits=k, shuffle=True, random_state=0)\n",
    "mse_list = []\n",
    "for train_index, test_index in cv.split(X):\n",
    "    X_train, X_test = X[train_index], X[test_index]\n",
    "    y_train, y_test = y[train_index], y[test_index]\n",
    "    \n",
    "    model.fit(X_train, y_train)\n",
    "    y_pred = model.predict(X_test)\n",
    "    mse = mean_squared_error(y_test, y_pred)\n",
    "    mse_list.append(mse)"
   ]
  },
  {
   "cell_type": "code",
   "execution_count": 65,
   "id": "ba876051-1510-4ade-a7e0-98e57b2604cd",
   "metadata": {},
   "outputs": [
    {
     "name": "stdout",
     "output_type": "stream",
     "text": [
      "1.0802110883943914\n",
      "0.16170100507039514\n"
     ]
    }
   ],
   "source": [
    "print(np.mean(mse_list))\n",
    "print(np.std(mse_list))"
   ]
  },
  {
   "cell_type": "code",
   "execution_count": 70,
   "id": "96765196-0770-415b-807c-a1787a451f32",
   "metadata": {},
   "outputs": [
    {
     "name": "stdout",
     "output_type": "stream",
     "text": [
      "1.080211088394392\n",
      "0.1617010050703952\n"
     ]
    }
   ],
   "source": [
    "scores = cross_val_score(model, X, y, cv=cv, scoring='neg_mean_squared_error', n_jobs=-1)\n",
    "print(-np.mean(scores))\n",
    "print(np.std(scores))"
   ]
  },
  {
   "cell_type": "markdown",
   "id": "14507452-5eb1-4aad-9177-de0c731a9dcc",
   "metadata": {},
   "source": [
    "### Repeated K-Fold"
   ]
  },
  {
   "cell_type": "code",
   "execution_count": 73,
   "id": "ca1bcd8b-6ee9-4c20-a85e-05195c25fc38",
   "metadata": {},
   "outputs": [
    {
     "name": "stdout",
     "output_type": "stream",
     "text": [
      "1.0746387233165984\n",
      "0.26517178540898434\n"
     ]
    }
   ],
   "source": [
    "from sklearn.model_selection import RepeatedKFold\n",
    "n_repeats = 3\n",
    "cv = RepeatedKFold(n_splits=k, n_repeats=n_repeats, random_state=0)\n",
    "\n",
    "scores = cross_val_score(model, X, y, cv=cv, scoring='neg_mean_squared_error', n_jobs=-1)\n",
    "print(-np.mean(scores))\n",
    "print(np.std(scores))"
   ]
  },
  {
   "cell_type": "markdown",
   "id": "f26a60ff-a4a7-4561-8c98-09fa7b151226",
   "metadata": {},
   "source": [
    "## Pipline"
   ]
  },
  {
   "cell_type": "markdown",
   "id": "47d4caff-fef5-4739-923d-57103b7f0c7a",
   "metadata": {},
   "source": [
    "### Pipeline + KFold"
   ]
  },
  {
   "cell_type": "code",
   "execution_count": 83,
   "id": "dc7ebd73-6c37-4098-8407-3b224c27e261",
   "metadata": {},
   "outputs": [],
   "source": [
    "from sklearn.pipeline import Pipeline\n",
    "\n",
    "pipeline = Pipeline(steps=[('scaler', StandardScaler()),('model', LinearRegression())])\n",
    "\n",
    "cv = KFold(n_splits=5, shuffle=True, random_state=0)\n",
    "scores = cross_val_score(pipeline, X, y, scoring='neg_mean_squared_error', cv=cv)"
   ]
  },
  {
   "cell_type": "code",
   "execution_count": 84,
   "id": "c986c799-3a48-450b-8c95-414e0b900024",
   "metadata": {},
   "outputs": [
    {
     "data": {
      "text/plain": [
       "array([-0.82130906, -1.07458421, -1.08801239, -1.33238677, -1.084763  ])"
      ]
     },
     "execution_count": 84,
     "metadata": {},
     "output_type": "execute_result"
    }
   ],
   "source": [
    "scores"
   ]
  },
  {
   "cell_type": "code",
   "execution_count": null,
   "id": "8b162f07-4de3-47ad-b3a8-3f801d7b030c",
   "metadata": {},
   "outputs": [],
   "source": []
  },
  {
   "cell_type": "code",
   "execution_count": null,
   "id": "46cf4d64-4a4e-4911-b216-54ff7a505a81",
   "metadata": {},
   "outputs": [],
   "source": []
  }
 ],
 "metadata": {
  "kernelspec": {
   "display_name": "Python 3 (ipykernel)",
   "language": "python",
   "name": "python3"
  },
  "language_info": {
   "codemirror_mode": {
    "name": "ipython",
    "version": 3
   },
   "file_extension": ".py",
   "mimetype": "text/x-python",
   "name": "python",
   "nbconvert_exporter": "python",
   "pygments_lexer": "ipython3",
   "version": "3.9.12"
  }
 },
 "nbformat": 4,
 "nbformat_minor": 5
}
