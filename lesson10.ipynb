{
 "cells": [
  {
   "cell_type": "markdown",
   "id": "7efe2865-1278-4ef3-9f3c-d2599d1f1c77",
   "metadata": {},
   "source": [
    "# 精度指標"
   ]
  },
  {
   "cell_type": "markdown",
   "id": "dba0c01d-d47a-4d25-be6d-73e412425db1",
   "metadata": {},
   "source": [
    "## 混合行列"
   ]
  },
  {
   "cell_type": "code",
   "execution_count": 10,
   "id": "156c8e52-b386-4bf8-a56a-d3074321e001",
   "metadata": {},
   "outputs": [],
   "source": [
    "import seaborn as sns\n",
    "from sklearn.metrics import confusion_matrix, ConfusionMatrixDisplay\n",
    "from sklearn.model_selection import train_test_split\n",
    "from sklearn.linear_model import LogisticRegression"
   ]
  },
  {
   "cell_type": "code",
   "execution_count": 14,
   "id": "3f9e116e-a4fd-4ddb-a80d-a1b0319effaf",
   "metadata": {},
   "outputs": [
    {
     "data": {
      "text/plain": [
       "<sklearn.metrics._plot.confusion_matrix.ConfusionMatrixDisplay at 0x7f71b45fe2e0>"
      ]
     },
     "execution_count": 14,
     "metadata": {},
     "output_type": "execute_result"
    },
    {
     "data": {
      "image/png": "[encoded data removed]",
      "text/plain": [
       "<Figure size 432x288 with 2 Axes>"
      ]
     },
     "metadata": {
      "needs_background": "light"
     },
     "output_type": "display_data"
    }
   ],
   "source": [
    "#データロード\n",
    "df = sns.load_dataset('iris')\n",
    "y_col = 'species'\n",
    "X = df.drop(columns=[y_col])\n",
    "y = df[y_col]\n",
    "\n",
    "# hold-out\n",
    "X_train, X_test, y_train, y_test = train_test_split(X, y, test_size=0.3, random_state=0)\n",
    "\n",
    "# モデル学習\n",
    "model = LogisticRegression(penalty='none')\n",
    "model.fit(X_train, y_train)\n",
    "y_pred = model.predict(X_test)\n",
    "\n",
    "# 混合行列\n",
    "cm = confusion_matrix(y_test, y_pred)\n",
    "\n",
    "disp = ConfusionMatrixDisplay(confusion_matrix=cm, display_labels=model.classes_)\n",
    "disp.plot()"
   ]
  },
  {
   "cell_type": "markdown",
   "id": "e1c014cf-4a9c-47dd-9f97-92852566ea26",
   "metadata": {},
   "source": [
    "## Accuracy"
   ]
  },
  {
   "cell_type": "code",
   "execution_count": 23,
   "id": "6a1f419a-e715-4d54-b707-cd273d6446f4",
   "metadata": {},
   "outputs": [
    {
     "data": {
      "text/plain": [
       "0.5"
      ]
     },
     "execution_count": 23,
     "metadata": {},
     "output_type": "execute_result"
    }
   ],
   "source": [
    "from sklearn.metrics import accuracy_score\n",
    "\n",
    "# サンプル\n",
    "y_true = [1, 1, 0, 1, 0, 0, 1, 1]\n",
    "y_pred = [1, 1, 1, 0, 1, 0, 0, 1]\n",
    "\n",
    "accuracy_score(y_true, y_pred)"
   ]
  },
  {
   "cell_type": "markdown",
   "id": "d5879076-8017-4db4-88ce-3cf1f56fc59d",
   "metadata": {},
   "source": [
    "## Precision"
   ]
  },
  {
   "cell_type": "code",
   "execution_count": 24,
   "id": "0e0205f4-1c32-4e1d-99fb-c8be742b05ea",
   "metadata": {},
   "outputs": [
    {
     "data": {
      "text/plain": [
       "0.6"
      ]
     },
     "execution_count": 24,
     "metadata": {},
     "output_type": "execute_result"
    }
   ],
   "source": [
    "from sklearn.metrics import precision_score\n",
    "\n",
    "\n",
    "# サンプル\n",
    "y_true = [1, 1, 0, 1, 0, 0, 1, 1]\n",
    "y_pred = [1, 1, 1, 0, 1, 0, 0, 1]\n",
    "\n",
    "precision_score(y_true, y_pred)"
   ]
  },
  {
   "cell_type": "markdown",
   "id": "da9a8f45-7e54-45eb-a957-d1e3f45bd825",
   "metadata": {},
   "source": [
    "## Recall"
   ]
  },
  {
   "cell_type": "code",
   "execution_count": 25,
   "id": "af5ba98e-4da6-4012-9d5f-90534debb648",
   "metadata": {},
   "outputs": [
    {
     "data": {
      "text/plain": [
       "0.6"
      ]
     },
     "execution_count": 25,
     "metadata": {},
     "output_type": "execute_result"
    }
   ],
   "source": [
    "from sklearn.metrics import recall_score\n",
    "\n",
    "# サンプル\n",
    "y_true = [1, 1, 0, 1, 0, 0, 1, 1]\n",
    "y_pred = [1, 1, 1, 0, 1, 0, 0, 1]\n",
    "\n",
    "recall_score(y_true, y_pred)"
   ]
  },
  {
   "cell_type": "markdown",
   "id": "7e809bec-21aa-40f3-8b16-7c4dc05a2572",
   "metadata": {},
   "source": [
    "## Specificity"
   ]
  },
  {
   "cell_type": "code",
   "execution_count": 26,
   "id": "93570099-c7be-41c1-b0df-8016ec5f3d0b",
   "metadata": {},
   "outputs": [
    {
     "data": {
      "text/plain": [
       "0.3333333333333333"
      ]
     },
     "execution_count": 26,
     "metadata": {},
     "output_type": "execute_result"
    }
   ],
   "source": [
    "import numpy as np\n",
    "\n",
    "y_true = [1, 1, 0, 1, 0, 0, 1, 1]\n",
    "y_pred = [1, 1, 1, 0, 1, 0, 0, 1]\n",
    "\n",
    "recall_score(np.array(y_true)!=1, np.array(y_pred)!=1)"
   ]
  },
  {
   "cell_type": "markdown",
   "id": "f7896890-b81b-4712-9ceb-62b5b801b85c",
   "metadata": {},
   "source": [
    "## 多クラス分類の評価　macro平均/micro平均"
   ]
  },
  {
   "cell_type": "code",
   "execution_count": 29,
   "id": "7bf169cc-8e23-46b5-88e9-833972dfff0b",
   "metadata": {},
   "outputs": [],
   "source": [
    "from sklearn.metrics import precision_score\n",
    "\n",
    "#データロード\n",
    "df = sns.load_dataset('iris')\n",
    "y_col = 'species'\n",
    "X = df.drop(columns=[y_col])\n",
    "y = df[y_col]\n",
    "\n",
    "# hold-out\n",
    "X_train, X_test, y_train, y_test = train_test_split(X, y, test_size=0.3, random_state=0)\n",
    "\n",
    "# モデル学習\n",
    "model = LogisticRegression(penalty='none')\n",
    "model.fit(X_train, y_train)\n",
    "y_pred = model.predict(X_test)"
   ]
  },
  {
   "cell_type": "code",
   "execution_count": 32,
   "id": "1057b7cf-3df1-435e-8c8b-92162f9a1c06",
   "metadata": {},
   "outputs": [
    {
     "name": "stdout",
     "output_type": "stream",
     "text": [
      "[1.         0.94444444 0.90909091]\n",
      "0.9511784511784511\n",
      "0.9555555555555556\n",
      "0.9555555555555556\n"
     ]
    }
   ],
   "source": [
    "# average-None\n",
    "print(precision_score(y_test, y_pred, average=None))\n",
    "\n",
    "# average-Macro\n",
    "print(precision_score(y_test, y_pred, average='macro'))\n",
    "\n",
    "# average-Micro\n",
    "print(precision_score(y_test, y_pred, average='micro'))\n",
    "\n",
    "# accuracy\n",
    "print(accuracy_score(y_test, y_pred))"
   ]
  },
  {
   "cell_type": "markdown",
   "id": "e553b0a6-b29a-4446-950e-4f072d3aa9db",
   "metadata": {},
   "source": [
    "## Precision-Recall Curve"
   ]
  },
  {
   "cell_type": "code",
   "execution_count": 43,
   "id": "d63e0e3f-f213-4e59-b84f-332c9211fc29",
   "metadata": {},
   "outputs": [],
   "source": [
    "from sklearn.metrics import precision_recall_curve\n",
    "import pandas as pd\n",
    "import matplotlib.pyplot as plt\n",
    "df = pd.read_csv('data/heart_preprocessed.csv')\n",
    "\n",
    "# データ準備\n",
    "y_col = 'target'\n",
    "X = df.drop(columns=[y_col])\n",
    "y = df[y_col]\n",
    "X_train, X_test, y_train, y_test = train_test_split(X, y, test_size=0.3, random_state=0)\n",
    "\n",
    "#modelの構築\n",
    "model = LogisticRegression(solver='liblinear')\n",
    "model.fit(X_train, y_train)\n",
    "y_pred_proba = model.predict_proba(X_test)"
   ]
  },
  {
   "cell_type": "code",
   "execution_count": 44,
   "id": "9b49d1c9-bdbb-4f3a-8dd0-a609265c7865",
   "metadata": {},
   "outputs": [],
   "source": [
    "# thresholdsはしきい値\n",
    "precision, recall, thresholds = precision_recall_curve(y_test, y_pred_proba[:, 1])"
   ]
  },
  {
   "cell_type": "code",
   "execution_count": 46,
   "id": "f89ce931-a84c-4322-a87e-05f91e2464de",
   "metadata": {},
   "outputs": [
    {
     "data": {
      "text/plain": [
       "[<matplotlib.lines.Line2D at 0x7f71b1b76310>]"
      ]
     },
     "execution_count": 46,
     "metadata": {},
     "output_type": "execute_result"
    },
    {
     "data": {
      "image/png": "[encoded data removed]",
      "text/plain": [
       "<Figure size 432x288 with 1 Axes>"
      ]
     },
     "metadata": {
      "needs_background": "light"
     },
     "output_type": "display_data"
    }
   ],
   "source": [
    "plt.plot(recall, precision)"
   ]
  },
  {
   "cell_type": "markdown",
   "id": "1d2af217-bafc-46b2-a5d9-c1afa35a809c",
   "metadata": {},
   "source": [
    " ## F値"
   ]
  },
  {
   "cell_type": "code",
   "execution_count": 51,
   "id": "06048c6b-8be9-4819-9818-8885a3d03fb2",
   "metadata": {},
   "outputs": [
    {
     "data": {
      "text/plain": [
       "0.6"
      ]
     },
     "execution_count": 51,
     "metadata": {},
     "output_type": "execute_result"
    }
   ],
   "source": [
    "from sklearn.metrics import f1_score, recall_score, precision_score\n",
    "\n",
    "y_true = [1, 1, 0, 1, 0, 0, 1, 1]\n",
    "y_pred = [1, 1, 1, 0, 0, 1, 0, 1]\n",
    "\n",
    "f1_score(y_true, y_pred)"
   ]
  },
  {
   "cell_type": "code",
   "execution_count": 53,
   "id": "fbdf27c1-9f92-4d17-9836-6c722be3a1a2",
   "metadata": {},
   "outputs": [
    {
     "data": {
      "text/plain": [
       "0.6"
      ]
     },
     "execution_count": 53,
     "metadata": {},
     "output_type": "execute_result"
    }
   ],
   "source": [
    "# 調和平均\n",
    "from scipy.stats import hmean\n",
    "hmean([recall_score(y_true, y_pred), precision_score(y_true, y_pred)])"
   ]
  },
  {
   "cell_type": "markdown",
   "id": "c6fe9066-e87c-43f2-a8fd-d61041bfc54f",
   "metadata": {},
   "source": [
    "## F値の推移"
   ]
  },
  {
   "cell_type": "code",
   "execution_count": 56,
   "id": "0239a411-6080-425d-a2c3-d224aacb6af9",
   "metadata": {},
   "outputs": [],
   "source": [
    "# それぞれの行のprecision, recallをタプルで返す\n",
    "# list(zip(precision, recall))\n",
    "\n",
    "f1_scores = [hmean([p, r])for p, r in zip(precision, recall)]"
   ]
  },
  {
   "cell_type": "code",
   "execution_count": 62,
   "id": "961a4024-5037-4d4b-a5e6-ee1d022b68ea",
   "metadata": {},
   "outputs": [
    {
     "data": {
      "text/plain": [
       "<matplotlib.legend.Legend at 0x7f71ac602d90>"
      ]
     },
     "execution_count": 62,
     "metadata": {},
     "output_type": "execute_result"
    },
    {
     "data": {
      "image/png": "[encoded data removed]",
      "text/plain": [
       "<Figure size 432x288 with 1 Axes>"
      ]
     },
     "metadata": {
      "needs_background": "light"
     },
     "output_type": "display_data"
    }
   ],
   "source": [
    "# 0,1があるためthreshholdsだけ要素が1多い\n",
    "plt.plot(thresholds, f1_scores[:-1], label='f1_scores')\n",
    "plt.plot(thresholds, precision[:-1], label='precision')\n",
    "plt.plot(thresholds, recall[:-1], label='recall')\n",
    "plt.xlabel('thresholds')\n",
    "plt.legend()"
   ]
  },
  {
   "cell_type": "code",
   "execution_count": 64,
   "id": "78baa8c8-10a6-451a-a457-ae6fd856d8d6",
   "metadata": {},
   "outputs": [
    {
     "data": {
      "text/plain": [
       "0.4416458143760564"
      ]
     },
     "execution_count": 64,
     "metadata": {},
     "output_type": "execute_result"
    }
   ],
   "source": [
    "np.argmax(f1_scores)\n",
    "thresholds[np.argmax(f1_scores)]"
   ]
  },
  {
   "cell_type": "markdown",
   "id": "8b462397-e66d-4be6-9412-9f022645d7f1",
   "metadata": {},
   "source": [
    " ## ROC"
   ]
  },
  {
   "cell_type": "code",
   "execution_count": 70,
   "id": "6f00ea56-68a1-4610-83f0-11ddd45b69d1",
   "metadata": {},
   "outputs": [
    {
     "data": {
      "text/plain": [
       "Text(0, 0.5, 'sensitivity(TPR)')"
      ]
     },
     "execution_count": 70,
     "metadata": {},
     "output_type": "execute_result"
    },
    {
     "data": {
      "image/png": "[encoded data removed]",
      "text/plain": [
       "<Figure size 432x288 with 1 Axes>"
      ]
     },
     "metadata": {
      "needs_background": "light"
     },
     "output_type": "display_data"
    }
   ],
   "source": [
    "from sklearn.metrics import roc_curve\n",
    "\n",
    "fpr, tpr, thresholds = roc_curve(y_test, y_pred_proba[:, 1])\n",
    "\n",
    "plt.plot(fpr, tpr)\n",
    "plt.xlabel('1-specificity(FPR)')\n",
    "plt.ylabel('sensitivity(TPR)')"
   ]
  },
  {
   "cell_type": "markdown",
   "id": "19858169-42fe-42b7-95cc-456024a00751",
   "metadata": {},
   "source": [
    "## AUC"
   ]
  },
  {
   "cell_type": "code",
   "execution_count": 72,
   "id": "5d19b0e9-502e-4ad3-9df7-eb893ceac8fc",
   "metadata": {},
   "outputs": [
    {
     "ename": "ImportError",
     "evalue": "cannot import name 'aucc' from 'sklearn.metrics' (/opt/anaconda3/lib/python3.9/site-packages/sklearn/metrics/__init__.py)",
     "output_type": "error",
     "traceback": [
      "\u001b[0;31m---------------------------------------------------------------------------\u001b[0m",
      "\u001b[0;31mImportError\u001b[0m                               Traceback (most recent call last)",
      "Input \u001b[0;32mIn [72]\u001b[0m, in \u001b[0;36m<cell line: 1>\u001b[0;34m()\u001b[0m\n\u001b[0;32m----> 1\u001b[0m \u001b[38;5;28;01mfrom\u001b[39;00m \u001b[38;5;21;01msklearn\u001b[39;00m\u001b[38;5;21;01m.\u001b[39;00m\u001b[38;5;21;01mmetrics\u001b[39;00m \u001b[38;5;28;01mimport\u001b[39;00m aucc\n\u001b[1;32m      3\u001b[0m auc(fpr, tpr)\n",
      "\u001b[0;31mImportError\u001b[0m: cannot import name 'aucc' from 'sklearn.metrics' (/opt/anaconda3/lib/python3.9/site-packages/sklearn/metrics/__init__.py)"
     ]
    }
   ],
   "source": [
    "from sklearn.metrics import aucc\n",
    "\n",
    "auc(fpr, tpr)"
   ]
  },
  {
   "cell_type": "code",
   "execution_count": null,
   "id": "8b915cba-b8a6-4eec-a284-855955f3c8be",
   "metadata": {},
   "outputs": [],
   "source": []
  }
 ],
 "metadata": {
  "kernelspec": {
   "display_name": "Python 3 (ipykernel)",
   "language": "python",
   "name": "python3"
  },
  "language_info": {
   "codemirror_mode": {
    "name": "ipython",
    "version": 3
   },
   "file_extension": ".py",
   "mimetype": "text/x-python",
   "name": "python",
   "nbconvert_exporter": "python",
   "pygments_lexer": "ipython3",
   "version": "3.9.12"
  }
 },
 "nbformat": 4,
 "nbformat_minor": 5
}
