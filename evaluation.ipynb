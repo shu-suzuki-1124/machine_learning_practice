{
 "cells": [
  {
   "cell_type": "markdown",
   "id": "ebb61a19-0188-4a7d-b2c2-c7cdba048b5f",
   "metadata": {},
   "source": [
    "## 回帰の評価指標"
   ]
  },
  {
   "cell_type": "code",
   "execution_count": 11,
   "id": "ceb40754-c30c-4cf0-b3a1-186b5309b49e",
   "metadata": {},
   "outputs": [],
   "source": [
    "from sklearn.model_selection import train_test_split\n",
    "from sklearn.linear_model import LinearRegression\n",
    "import seaborn as sns\n",
    "\n",
    "# データの準備\n",
    "df = sns.load_dataset('tips')\n",
    "X = df['total_bill'].values.reshape(-1, 1)\n",
    "y = df['tip'].values\n",
    "\n",
    "# hold-out\n",
    "X_train, X_test, y_train, y_test = train_test_split(X, y, test_size=0.3, random_state=0)\n",
    "\n",
    "model = LinearRegression()\n",
    "model.fit(X_train, y_train)\n",
    "\n",
    "y_pred = model.predict(X_test)\n"
   ]
  },
  {
   "cell_type": "markdown",
   "id": "01f21b3d-2aa9-4efd-b376-45fe542814cb",
   "metadata": {},
   "source": [
    "## MSE"
   ]
  },
  {
   "cell_type": "code",
   "execution_count": 13,
   "id": "bb60a390-3c85-4c2d-b282-19611b8e4f86",
   "metadata": {},
   "outputs": [
    {
     "data": {
      "text/plain": [
       "0.871184553753995"
      ]
     },
     "execution_count": 13,
     "metadata": {},
     "output_type": "execute_result"
    }
   ],
   "source": [
    "from sklearn.metrics import mean_squared_error\n",
    "mean_squared_error(y_test, y_pred)"
   ]
  },
  {
   "cell_type": "markdown",
   "id": "1e3c86ff-5b54-449f-b224-756126d554aa",
   "metadata": {},
   "source": [
    "## RMSE"
   ]
  },
  {
   "cell_type": "code",
   "execution_count": 14,
   "id": "23d1e585-0d76-4833-b0d9-3dfe118ddc00",
   "metadata": {},
   "outputs": [
    {
     "data": {
      "text/plain": [
       "0.9333726767770711"
      ]
     },
     "execution_count": 14,
     "metadata": {},
     "output_type": "execute_result"
    }
   ],
   "source": [
    "mean_squared_error(y_test, y_pred, squared=False)"
   ]
  },
  {
   "cell_type": "markdown",
   "id": "782b7ef9-c6aa-48ce-aca7-816f0915d04b",
   "metadata": {},
   "source": [
    "## MAE"
   ]
  },
  {
   "cell_type": "code",
   "execution_count": 16,
   "id": "e9f67a38-0f95-4032-a49c-6de4bdfdca8c",
   "metadata": {},
   "outputs": [
    {
     "data": {
      "text/plain": [
       "0.6903119067790221"
      ]
     },
     "execution_count": 16,
     "metadata": {},
     "output_type": "execute_result"
    }
   ],
   "source": [
    "from sklearn.metrics import mean_absolute_error\n",
    "mean_absolute_error(y_test, y_pred)"
   ]
  },
  {
   "cell_type": "markdown",
   "id": "88008b6c-a6a8-4605-8a2b-130272cb0eda",
   "metadata": {},
   "source": [
    "## R-Squared"
   ]
  },
  {
   "cell_type": "code",
   "execution_count": 17,
   "id": "ccce66ac-e6c8-4d4d-81ff-22acc8b7cedb",
   "metadata": {},
   "outputs": [],
   "source": [
    "from sklearn.metrics import r2_score"
   ]
  }
 ],
 "metadata": {
  "kernelspec": {
   "display_name": "Python 3 (ipykernel)",
   "language": "python",
   "name": "python3"
  },
  "language_info": {
   "codemirror_mode": {
    "name": "ipython",
    "version": 3
   },
   "file_extension": ".py",
   "mimetype": "text/x-python",
   "name": "python",
   "nbconvert_exporter": "python",
   "pygments_lexer": "ipython3",
   "version": "3.9.12"
  }
 },
 "nbformat": 4,
 "nbformat_minor": 5
}
