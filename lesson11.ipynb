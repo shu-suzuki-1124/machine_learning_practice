{
 "cells": [
  {
   "cell_type": "markdown",
   "id": "4334240b-81da-4f89-a0de-fcc2e5387b98",
   "metadata": {},
   "source": [
    "## 主成分分析"
   ]
  },
  {
   "cell_type": "markdown",
   "id": "da60f44e-0296-4af5-a124-eec1c2289d97",
   "metadata": {},
   "source": [
    "### pca from scrach"
   ]
  },
  {
   "cell_type": "code",
   "execution_count": 2,
   "id": "2569034d-2446-4475-b697-17a4f55bd760",
   "metadata": {},
   "outputs": [],
   "source": [
    "import pandas as pd\n",
    "import numpy as np\n",
    "\n",
    "# サンプルデータ準備\n",
    "x = np.array([3, 4, 2, 3, 4, 4, 3])\n",
    "y = np.array([2, 3, 5, 5, 3, 2, 3])\n",
    "\n",
    "X = pd.DataFrame({'x': x, 'y': y})"
   ]
  },
  {
   "cell_type": "code",
   "execution_count": 11,
   "id": "5adfa78b-4683-41d6-acf7-82f093aa71d5",
   "metadata": {},
   "outputs": [],
   "source": [
    "def my_pca(X, num_components):\n",
    "    # 標準化\n",
    "    X_meaned = X - np.mean(X, axis=0)\n",
    "    X_scaled = X_meaned / np.std(X_meaned, axis=0)\n",
    "    \n",
    "    # 分散共分散行列\n",
    "    cov_mat = np.cov(X_scaled, rowvar=False)\n",
    "    \n",
    "    # 固有ベクトル, 固有値\n",
    "    eigen_values, eigen_vectors = np.linalg.eigh(cov_mat)\n",
    "    sorted_index = np.argsort(eigen_values)[::-1]\n",
    "    sorted_evalues = eigen_values[sorted_index]\n",
    "    sorted_evectors = eigen_vectors[:, sorted_index]\n",
    "    subset_evectors = sorted_evectors[:, :num_components]\n",
    "    \n",
    "    # 変換\n",
    "    X_reduced = np.dot(X_scaled, subset_evectors)\n",
    "    \n",
    "    return X_reduced"
   ]
  },
  {
   "cell_type": "code",
   "execution_count": 12,
   "id": "40593cea-9f79-43f4-85f5-0f09fcff30c7",
   "metadata": {},
   "outputs": [
    {
     "data": {
      "text/plain": [
       "array([[-0.49467432],\n",
       "       [-0.89576549],\n",
       "       [ 2.34350404],\n",
       "       [ 1.33314107],\n",
       "       [-0.89576549],\n",
       "       [-1.50503729],\n",
       "       [ 0.11459748]])"
      ]
     },
     "execution_count": 12,
     "metadata": {},
     "output_type": "execute_result"
    }
   ],
   "source": [
    "my_pca(X, 1)"
   ]
  },
  {
   "cell_type": "markdown",
   "id": "17372d23-030c-484a-bbe5-15a11675dadf",
   "metadata": {},
   "source": [
    "### pca from sklean"
   ]
  },
  {
   "cell_type": "code",
   "execution_count": 13,
   "id": "81681d40-d5d9-42be-8f19-fd25d377530a",
   "metadata": {},
   "outputs": [
    {
     "data": {
      "text/plain": [
       "array([[-0.49467432],\n",
       "       [-0.89576549],\n",
       "       [ 2.34350404],\n",
       "       [ 1.33314107],\n",
       "       [-0.89576549],\n",
       "       [-1.50503729],\n",
       "       [ 0.11459748]])"
      ]
     },
     "execution_count": 13,
     "metadata": {},
     "output_type": "execute_result"
    }
   ],
   "source": [
    "from sklearn.decomposition import PCA\n",
    "from sklearn.preprocessing import StandardScaler\n",
    "\n",
    "scaler = StandardScaler()\n",
    "X = scaler.fit_transform(X)\n",
    "pca = PCA(n_components=1)\n",
    "pca.fit_transform(X)"
   ]
  },
  {
   "cell_type": "code",
   "execution_count": 21,
   "id": "fbfe3426-3bac-4249-b4f4-c7589b44e191",
   "metadata": {},
   "outputs": [],
   "source": [
    "import seaborn as sns\n",
    "\n",
    "# データ準備\n",
    "df = sns.load_dataset('iris')\n",
    "y_col = 'species'\n",
    "X = df.loc[:, df.columns!=y_col]\n",
    "y = df[y_col].values\n",
    "\n",
    "# 標準化\n",
    "scaler = StandardScaler()\n",
    "X_scaled = scaler.fit_transform(X)\n",
    "\n",
    "# PCA\n",
    "X_pc = PCA(n_components=2).fit_transform(X_scaled)\n",
    "\n",
    "y = y.reshape(-1, 1)\n",
    "df_pc = pd.DataFrame(np.concatenate([X_pc, y], axis=1), columns=['first component', 'second_component', 'species'])\n",
    "\n",
    "sns.scatterplot(x='first component', y='')"
   ]
  },
  {
   "cell_type": "code",
   "execution_count": 22,
   "id": "9307f298-3b55-41f2-9a4d-eb55b6387d4d",
   "metadata": {},
   "outputs": [
    {
     "data": {
      "text/html": [
       "<div>\n",
       "<style scoped>\n",
       "    .dataframe tbody tr th:only-of-type {\n",
       "        vertical-align: middle;\n",
       "    }\n",
       "\n",
       "    .dataframe tbody tr th {\n",
       "        vertical-align: top;\n",
       "    }\n",
       "\n",
       "    .dataframe thead th {\n",
       "        text-align: right;\n",
       "    }\n",
       "</style>\n",
       "<table border=\"1\" class=\"dataframe\">\n",
       "  <thead>\n",
       "    <tr style=\"text-align: right;\">\n",
       "      <th></th>\n",
       "      <th>first component</th>\n",
       "      <th>second_component</th>\n",
       "      <th>species</th>\n",
       "    </tr>\n",
       "  </thead>\n",
       "  <tbody>\n",
       "    <tr>\n",
       "      <th>0</th>\n",
       "      <td>-2.264703</td>\n",
       "      <td>0.480027</td>\n",
       "      <td>setosa</td>\n",
       "    </tr>\n",
       "    <tr>\n",
       "      <th>1</th>\n",
       "      <td>-2.080961</td>\n",
       "      <td>-0.674134</td>\n",
       "      <td>setosa</td>\n",
       "    </tr>\n",
       "    <tr>\n",
       "      <th>2</th>\n",
       "      <td>-2.364229</td>\n",
       "      <td>-0.341908</td>\n",
       "      <td>setosa</td>\n",
       "    </tr>\n",
       "    <tr>\n",
       "      <th>3</th>\n",
       "      <td>-2.299384</td>\n",
       "      <td>-0.597395</td>\n",
       "      <td>setosa</td>\n",
       "    </tr>\n",
       "    <tr>\n",
       "      <th>4</th>\n",
       "      <td>-2.389842</td>\n",
       "      <td>0.646835</td>\n",
       "      <td>setosa</td>\n",
       "    </tr>\n",
       "    <tr>\n",
       "      <th>...</th>\n",
       "      <td>...</td>\n",
       "      <td>...</td>\n",
       "      <td>...</td>\n",
       "    </tr>\n",
       "    <tr>\n",
       "      <th>145</th>\n",
       "      <td>1.870503</td>\n",
       "      <td>0.386966</td>\n",
       "      <td>virginica</td>\n",
       "    </tr>\n",
       "    <tr>\n",
       "      <th>146</th>\n",
       "      <td>1.56458</td>\n",
       "      <td>-0.896687</td>\n",
       "      <td>virginica</td>\n",
       "    </tr>\n",
       "    <tr>\n",
       "      <th>147</th>\n",
       "      <td>1.52117</td>\n",
       "      <td>0.269069</td>\n",
       "      <td>virginica</td>\n",
       "    </tr>\n",
       "    <tr>\n",
       "      <th>148</th>\n",
       "      <td>1.372788</td>\n",
       "      <td>1.011254</td>\n",
       "      <td>virginica</td>\n",
       "    </tr>\n",
       "    <tr>\n",
       "      <th>149</th>\n",
       "      <td>0.960656</td>\n",
       "      <td>-0.024332</td>\n",
       "      <td>virginica</td>\n",
       "    </tr>\n",
       "  </tbody>\n",
       "</table>\n",
       "<p>150 rows × 3 columns</p>\n",
       "</div>"
      ],
      "text/plain": [
       "    first component second_component    species\n",
       "0         -2.264703         0.480027     setosa\n",
       "1         -2.080961        -0.674134     setosa\n",
       "2         -2.364229        -0.341908     setosa\n",
       "3         -2.299384        -0.597395     setosa\n",
       "4         -2.389842         0.646835     setosa\n",
       "..              ...              ...        ...\n",
       "145        1.870503         0.386966  virginica\n",
       "146         1.56458        -0.896687  virginica\n",
       "147         1.52117         0.269069  virginica\n",
       "148        1.372788         1.011254  virginica\n",
       "149        0.960656        -0.024332  virginica\n",
       "\n",
       "[150 rows x 3 columns]"
      ]
     },
     "execution_count": 22,
     "metadata": {},
     "output_type": "execute_result"
    }
   ],
   "source": [
    "df_pc"
   ]
  },
  {
   "cell_type": "code",
   "execution_count": null,
   "id": "95fc50ac-afa6-41a4-8972-cdbc64f8db3f",
   "metadata": {},
   "outputs": [],
   "source": []
  }
 ],
 "metadata": {
  "kernelspec": {
   "display_name": "Python 3 (ipykernel)",
   "language": "python",
   "name": "python3"
  },
  "language_info": {
   "codemirror_mode": {
    "name": "ipython",
    "version": 3
   },
   "file_extension": ".py",
   "mimetype": "text/x-python",
   "name": "python",
   "nbconvert_exporter": "python",
   "pygments_lexer": "ipython3",
   "version": "3.9.12"
  }
 },
 "nbformat": 4,
 "nbformat_minor": 5
}
