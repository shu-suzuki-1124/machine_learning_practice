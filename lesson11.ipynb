{
 "cells": [
  {
   "cell_type": "markdown",
   "id": "4334240b-81da-4f89-a0de-fcc2e5387b98",
   "metadata": {},
   "source": [
    "## 主成分分析"
   ]
  },
  {
   "cell_type": "markdown",
   "id": "da60f44e-0296-4af5-a124-eec1c2289d97",
   "metadata": {},
   "source": [
    "### pca from scrach"
   ]
  },
  {
   "cell_type": "code",
   "execution_count": 4,
   "id": "2569034d-2446-4475-b697-17a4f55bd760",
   "metadata": {},
   "outputs": [],
   "source": [
    "import pandas as pd\n",
    "import numpy as np\n",
    "\n",
    "# サンプルデータ準備\n",
    "x = np.array([3, 4, 2, 3, 4, 4, 3])\n",
    "y = np.array([2, 3, 5, 5, 3, 2, 3])\n",
    "\n",
    "X = pd.DataFrame({'x': x, 'y': y})"
   ]
  },
  {
   "cell_type": "code",
   "execution_count": 5,
   "id": "5adfa78b-4683-41d6-acf7-82f093aa71d5",
   "metadata": {},
   "outputs": [],
   "source": [
    "def my_pca(X, num_components):\n",
    "    # 標準化\n",
    "    X_meaned = X - np.mean(X, axis=0)\n",
    "    X_scaled = X_meaned / np.std(X_meaned, axis=0)\n",
    "    \n",
    "    # 分散共分散行列\n",
    "    cov_mat = np.cov(X_scaled, rowvar=False)\n",
    "    \n",
    "    # 固有ベクトル, 固有値\n",
    "    eigen_values, eigen_vectors = np.linalg.eigh(cov_mat)\n",
    "    sorted_index = np.argsort(eigen_values)[::-1]\n",
    "    sorted_evalues = eigen_values[sorted_index]\n",
    "    sorted_evectors = eigen_vectors[:, sorted_index]\n",
    "    subset_evectors = sorted_evectors[:, :num_components]\n",
    "    \n",
    "    # 変換\n",
    "    X_reduced = np.dot(X_scaled, subset_evectors)\n",
    "    \n",
    "    return X_reduced"
   ]
  },
  {
   "cell_type": "code",
   "execution_count": 6,
   "id": "40593cea-9f79-43f4-85f5-0f09fcff30c7",
   "metadata": {},
   "outputs": [
    {
     "data": {
      "text/plain": [
       "array([[-0.49467432],\n",
       "       [-0.89576549],\n",
       "       [ 2.34350404],\n",
       "       [ 1.33314107],\n",
       "       [-0.89576549],\n",
       "       [-1.50503729],\n",
       "       [ 0.11459748]])"
      ]
     },
     "execution_count": 6,
     "metadata": {},
     "output_type": "execute_result"
    }
   ],
   "source": [
    "my_pca(X, 1)"
   ]
  },
  {
   "cell_type": "markdown",
   "id": "17372d23-030c-484a-bbe5-15a11675dadf",
   "metadata": {},
   "source": [
    "### pca from sklean"
   ]
  },
  {
   "cell_type": "code",
   "execution_count": 7,
   "id": "81681d40-d5d9-42be-8f19-fd25d377530a",
   "metadata": {},
   "outputs": [
    {
     "data": {
      "text/plain": [
       "array([[-0.49467432],\n",
       "       [-0.89576549],\n",
       "       [ 2.34350404],\n",
       "       [ 1.33314107],\n",
       "       [-0.89576549],\n",
       "       [-1.50503729],\n",
       "       [ 0.11459748]])"
      ]
     },
     "execution_count": 7,
     "metadata": {},
     "output_type": "execute_result"
    }
   ],
   "source": [
    "from sklearn.decomposition import PCA\n",
    "from sklearn.preprocessing import StandardScaler\n",
    "\n",
    "scaler = StandardScaler()\n",
    "X = scaler.fit_transform(X)\n",
    "pca = PCA(n_components=1)\n",
    "pca.fit_transform(X)"
   ]
  },
  {
   "cell_type": "code",
   "execution_count": 8,
   "id": "fbfe3426-3bac-4249-b4f4-c7589b44e191",
   "metadata": {},
   "outputs": [
    {
     "data": {
      "text/plain": [
       "<AxesSubplot:xlabel='first component', ylabel='second component'>"
      ]
     },
     "execution_count": 8,
     "metadata": {},
     "output_type": "execute_result"
    },
    {
     "data": {
      "image/png": "[encoded data removed]",
      "text/plain": [
       "<Figure size 432x288 with 1 Axes>"
      ]
     },
     "metadata": {
      "needs_background": "light"
     },
     "output_type": "display_data"
    }
   ],
   "source": [
    "import seaborn as sns\n",
    "\n",
    "# データ準備\n",
    "df = sns.load_dataset('iris')\n",
    "y_col = 'species'\n",
    "X = df.loc[:, df.columns!=y_col]\n",
    "y = df[y_col].values\n",
    "\n",
    "# 標準化\n",
    "scaler = StandardScaler()\n",
    "X_scaled = scaler.fit_transform(X)\n",
    "\n",
    "# PCA\n",
    "X_pc = PCA(n_components=2).fit_transform(X_scaled)\n",
    "\n",
    "y = y.reshape(-1, 1)\n",
    "df_pc = pd.DataFrame(np.concatenate([X_pc, y], axis=1), columns=['first component', 'second component', 'species'])\n",
    "\n",
    "sns.scatterplot(x='first component', y='second component', hue='species', data=df_pc)"
   ]
  },
  {
   "cell_type": "code",
   "execution_count": 9,
   "id": "9307f298-3b55-41f2-9a4d-eb55b6387d4d",
   "metadata": {},
   "outputs": [
    {
     "data": {
      "text/html": [
       "<div>\n",
       "<style scoped>\n",
       "    .dataframe tbody tr th:only-of-type {\n",
       "        vertical-align: middle;\n",
       "    }\n",
       "\n",
       "    .dataframe tbody tr th {\n",
       "        vertical-align: top;\n",
       "    }\n",
       "\n",
       "    .dataframe thead th {\n",
       "        text-align: right;\n",
       "    }\n",
       "</style>\n",
       "<table border=\"1\" class=\"dataframe\">\n",
       "  <thead>\n",
       "    <tr style=\"text-align: right;\">\n",
       "      <th></th>\n",
       "      <th>first component</th>\n",
       "      <th>second component</th>\n",
       "      <th>species</th>\n",
       "    </tr>\n",
       "  </thead>\n",
       "  <tbody>\n",
       "    <tr>\n",
       "      <th>0</th>\n",
       "      <td>-2.264703</td>\n",
       "      <td>0.480027</td>\n",
       "      <td>setosa</td>\n",
       "    </tr>\n",
       "    <tr>\n",
       "      <th>1</th>\n",
       "      <td>-2.080961</td>\n",
       "      <td>-0.674134</td>\n",
       "      <td>setosa</td>\n",
       "    </tr>\n",
       "    <tr>\n",
       "      <th>2</th>\n",
       "      <td>-2.364229</td>\n",
       "      <td>-0.341908</td>\n",
       "      <td>setosa</td>\n",
       "    </tr>\n",
       "    <tr>\n",
       "      <th>3</th>\n",
       "      <td>-2.299384</td>\n",
       "      <td>-0.597395</td>\n",
       "      <td>setosa</td>\n",
       "    </tr>\n",
       "    <tr>\n",
       "      <th>4</th>\n",
       "      <td>-2.389842</td>\n",
       "      <td>0.646835</td>\n",
       "      <td>setosa</td>\n",
       "    </tr>\n",
       "    <tr>\n",
       "      <th>...</th>\n",
       "      <td>...</td>\n",
       "      <td>...</td>\n",
       "      <td>...</td>\n",
       "    </tr>\n",
       "    <tr>\n",
       "      <th>145</th>\n",
       "      <td>1.870503</td>\n",
       "      <td>0.386966</td>\n",
       "      <td>virginica</td>\n",
       "    </tr>\n",
       "    <tr>\n",
       "      <th>146</th>\n",
       "      <td>1.56458</td>\n",
       "      <td>-0.896687</td>\n",
       "      <td>virginica</td>\n",
       "    </tr>\n",
       "    <tr>\n",
       "      <th>147</th>\n",
       "      <td>1.52117</td>\n",
       "      <td>0.269069</td>\n",
       "      <td>virginica</td>\n",
       "    </tr>\n",
       "    <tr>\n",
       "      <th>148</th>\n",
       "      <td>1.372788</td>\n",
       "      <td>1.011254</td>\n",
       "      <td>virginica</td>\n",
       "    </tr>\n",
       "    <tr>\n",
       "      <th>149</th>\n",
       "      <td>0.960656</td>\n",
       "      <td>-0.024332</td>\n",
       "      <td>virginica</td>\n",
       "    </tr>\n",
       "  </tbody>\n",
       "</table>\n",
       "<p>150 rows × 3 columns</p>\n",
       "</div>"
      ],
      "text/plain": [
       "    first component second component    species\n",
       "0         -2.264703         0.480027     setosa\n",
       "1         -2.080961        -0.674134     setosa\n",
       "2         -2.364229        -0.341908     setosa\n",
       "3         -2.299384        -0.597395     setosa\n",
       "4         -2.389842         0.646835     setosa\n",
       "..              ...              ...        ...\n",
       "145        1.870503         0.386966  virginica\n",
       "146         1.56458        -0.896687  virginica\n",
       "147         1.52117         0.269069  virginica\n",
       "148        1.372788         1.011254  virginica\n",
       "149        0.960656        -0.024332  virginica\n",
       "\n",
       "[150 rows x 3 columns]"
      ]
     },
     "execution_count": 9,
     "metadata": {},
     "output_type": "execute_result"
    }
   ],
   "source": [
    "df_pc"
   ]
  },
  {
   "cell_type": "markdown",
   "id": "bb2f7685-7ead-422e-84f0-9c9eca4a53a1",
   "metadata": {},
   "source": [
    " ## 累積寄与率"
   ]
  },
  {
   "cell_type": "code",
   "execution_count": 10,
   "id": "08529e46-11c3-494d-abd3-2fdff0d51a14",
   "metadata": {},
   "outputs": [
    {
     "data": {
      "text/plain": [
       "array([0.72962445, 0.22850762, 0.03668922, 0.00517871])"
      ]
     },
     "execution_count": 10,
     "metadata": {},
     "output_type": "execute_result"
    }
   ],
   "source": [
    "import matplotlib.pyplot as plt\n",
    "\n",
    "n_components=4\n",
    "pca = PCA(n_components=n_components)\n",
    "pca.fit(X_scaled)\n",
    "pca.explained_variance_ratio_"
   ]
  },
  {
   "cell_type": "code",
   "execution_count": 11,
   "id": "f5c5a922-139e-4240-8409-b873f23094b7",
   "metadata": {},
   "outputs": [
    {
     "data": {
      "text/plain": [
       "array([[ 0.52106591, -0.26934744,  0.5804131 ,  0.56485654],\n",
       "       [ 0.37741762,  0.92329566,  0.02449161,  0.06694199],\n",
       "       [-0.71956635,  0.24438178,  0.14212637,  0.63427274],\n",
       "       [-0.26128628,  0.12350962,  0.80144925, -0.52359713]])"
      ]
     },
     "execution_count": 11,
     "metadata": {},
     "output_type": "execute_result"
    }
   ],
   "source": [
    "pca.components_"
   ]
  },
  {
   "cell_type": "code",
   "execution_count": 12,
   "id": "9fba5f45-7a74-4a5d-88ea-1850e2f426ae",
   "metadata": {},
   "outputs": [
    {
     "data": {
      "text/plain": [
       "[<matplotlib.lines.Line2D at 0x7f75c96dfe80>]"
      ]
     },
     "execution_count": 12,
     "metadata": {},
     "output_type": "execute_result"
    },
    {
     "data": {
      "image/png": "[encoded data removed]",
      "text/plain": [
       "<Figure size 432x288 with 1 Axes>"
      ]
     },
     "metadata": {
      "needs_background": "light"
     },
     "output_type": "display_data"
    }
   ],
   "source": [
    "plt.plot(range(1, n_components+1), np.cumsum(pca.explained_variance_ratio_))"
   ]
  },
  {
   "cell_type": "markdown",
   "id": "44f6b711-9b24-47d3-aeed-98ea1679ed59",
   "metadata": {},
   "source": [
    "## PCAで分類器を作成"
   ]
  },
  {
   "cell_type": "code",
   "execution_count": 1,
   "id": "8996fb4c-cc13-4e96-b05b-140d6b57fff9",
   "metadata": {},
   "outputs": [],
   "source": [
    "from sklearn.datasets import fetch_openml\n",
    "from sklearn.model_selection import train_test_split\n",
    "\n",
    "mnist = fetch_openml('mnist_784')"
   ]
  },
  {
   "cell_type": "code",
   "execution_count": 13,
   "id": "77b5103a-c734-4188-9124-706320e3458b",
   "metadata": {},
   "outputs": [
    {
     "data": {
      "text/plain": [
       "<matplotlib.image.AxesImage at 0x7f75c8dd35e0>"
      ]
     },
     "execution_count": 13,
     "metadata": {},
     "output_type": "execute_result"
    },
    {
     "data": {
      "image/png": "[encoded data removed]",
      "text/plain": [
       "<Figure size 432x288 with 1 Axes>"
      ]
     },
     "metadata": {
      "needs_background": "light"
     },
     "output_type": "display_data"
    }
   ],
   "source": [
    "# 画像の再構成\n",
    "im = mnist.data.iloc[0].values.reshape(28, 28)\n",
    "plt.imshow(im, 'gray')"
   ]
  },
  {
   "cell_type": "code",
   "execution_count": 14,
   "id": "cae531e9-a44d-4876-9c75-93a14a6288fc",
   "metadata": {},
   "outputs": [],
   "source": [
    "# hold out\n",
    "X_train, X_test, y_train, y_test = train_test_split(mnist.data, mnist.target, test_size=0.3, random_state=0)\n",
    "\n",
    "# 標準化\n",
    "scaler = StandardScaler().fit(X_train)\n",
    "X_train = scaler.transform(X_train)\n",
    "X_test = scaler.transform(X_test)\n",
    "\n",
    "# PCA\n",
    "pca = PCA(n_components=0.95).fit(X_train)\n",
    "pca.fit(X_train)\n",
    "\n",
    "X_train_pc = pca.transform(X_train)\n",
    "X_test_pc = pca.transform(X_test)"
   ]
  },
  {
   "cell_type": "code",
   "execution_count": 18,
   "id": "3a8885b3-456d-4e0d-a1cb-f6314eabbde2",
   "metadata": {},
   "outputs": [
    {
     "name": "stdout",
     "output_type": "stream",
     "text": [
      "784\n",
      "323\n"
     ]
    }
   ],
   "source": [
    "# 次元削減前\n",
    "print(X_train.shape[-1])\n",
    "\n",
    "# 次元削減後\n",
    "print(X_train_pc.shape[-1])"
   ]
  },
  {
   "cell_type": "code",
   "execution_count": 22,
   "id": "b4f5c99c-4555-4b05-99dc-96bc3ff303ab",
   "metadata": {},
   "outputs": [
    {
     "name": "stdout",
     "output_type": "stream",
     "text": [
      "fit took 3.29s\n"
     ]
    },
    {
     "name": "stderr",
     "output_type": "stream",
     "text": [
      "/opt/anaconda3/lib/python3.9/site-packages/sklearn/linear_model/_logistic.py:444: ConvergenceWarning: lbfgs failed to converge (status=1):\n",
      "STOP: TOTAL NO. of ITERATIONS REACHED LIMIT.\n",
      "\n",
      "Increase the number of iterations (max_iter) or scale the data as shown in:\n",
      "    https://scikit-learn.org/stable/modules/preprocessing.html\n",
      "Please also refer to the documentation for alternative solver options:\n",
      "    https://scikit-learn.org/stable/modules/linear_model.html#logistic-regression\n",
      "  n_iter_i = _check_optimize_result(\n"
     ]
    }
   ],
   "source": [
    "# ロジスティック回帰(PCAあり)\n",
    "from sklearn.linear_model import LogisticRegression\n",
    "import time\n",
    "\n",
    "model_pca = LogisticRegression()\n",
    "before = time.time()\n",
    "model_pca.fit(X_train_pc, y_train)\n",
    "after = time.time()\n",
    "\n",
    "print(f\"fit took {after - before:.2f}s\")"
   ]
  },
  {
   "cell_type": "code",
   "execution_count": 29,
   "id": "4b965f8c-28ba-4d87-b537-34cf04c4d44f",
   "metadata": {},
   "outputs": [],
   "source": [
    "y_pred_pc = model_pca.predict(X_test_pc)"
   ]
  },
  {
   "cell_type": "code",
   "execution_count": 30,
   "id": "7da06ec1-4258-49f9-842e-5c36b735823a",
   "metadata": {},
   "outputs": [
    {
     "data": {
      "text/plain": [
       "<matplotlib.image.AxesImage at 0x7f75adc306d0>"
      ]
     },
     "execution_count": 30,
     "metadata": {},
     "output_type": "execute_result"
    },
    {
     "data": {
      "image/png": "[encoded data removed]",
      "text/plain": [
       "<Figure size 432x288 with 1 Axes>"
      ]
     },
     "metadata": {
      "needs_background": "light"
     },
     "output_type": "display_data"
    }
   ],
   "source": [
    "im = X_test[0].reshape(28, 28)\n",
    "plt.imshow(im, 'gray')"
   ]
  },
  {
   "cell_type": "code",
   "execution_count": 31,
   "id": "5cd1f1ea-b20e-4b33-9595-55e2ee888a5f",
   "metadata": {},
   "outputs": [
    {
     "data": {
      "text/plain": [
       "0.9195238095238095"
      ]
     },
     "execution_count": 31,
     "metadata": {},
     "output_type": "execute_result"
    }
   ],
   "source": [
    "from sklearn.metrics import accuracy_score\n",
    "accuracy_score(y_test, y_pred_pc)"
   ]
  },
  {
   "cell_type": "code",
   "execution_count": 32,
   "id": "6e52103a-6046-4b58-b1a0-3fca9f1c3c7f",
   "metadata": {},
   "outputs": [
    {
     "name": "stdout",
     "output_type": "stream",
     "text": [
      "fit took 8.68s\n"
     ]
    },
    {
     "name": "stderr",
     "output_type": "stream",
     "text": [
      "/opt/anaconda3/lib/python3.9/site-packages/sklearn/linear_model/_logistic.py:444: ConvergenceWarning: lbfgs failed to converge (status=1):\n",
      "STOP: TOTAL NO. of ITERATIONS REACHED LIMIT.\n",
      "\n",
      "Increase the number of iterations (max_iter) or scale the data as shown in:\n",
      "    https://scikit-learn.org/stable/modules/preprocessing.html\n",
      "Please also refer to the documentation for alternative solver options:\n",
      "    https://scikit-learn.org/stable/modules/linear_model.html#logistic-regression\n",
      "  n_iter_i = _check_optimize_result(\n"
     ]
    }
   ],
   "source": [
    "# ロジスティック回帰(PCAなし)\n",
    "model = LogisticRegression()\n",
    "before = time.time()\n",
    "model.fit(X_train, y_train)\n",
    "after = time.time()\n",
    "\n",
    "print(f\"fit took {after - before:.2f}s\")"
   ]
  },
  {
   "cell_type": "code",
   "execution_count": null,
   "id": "e5ed1af2-a88c-4fa4-82e2-31a488c8cb5f",
   "metadata": {},
   "outputs": [],
   "source": []
  }
 ],
 "metadata": {
  "kernelspec": {
   "display_name": "Python 3 (ipykernel)",
   "language": "python",
   "name": "python3"
  },
  "language_info": {
   "codemirror_mode": {
    "name": "ipython",
    "version": 3
   },
   "file_extension": ".py",
   "mimetype": "text/x-python",
   "name": "python",
   "nbconvert_exporter": "python",
   "pygments_lexer": "ipython3",
   "version": "3.9.12"
  }
 },
 "nbformat": 4,
 "nbformat_minor": 5
}
