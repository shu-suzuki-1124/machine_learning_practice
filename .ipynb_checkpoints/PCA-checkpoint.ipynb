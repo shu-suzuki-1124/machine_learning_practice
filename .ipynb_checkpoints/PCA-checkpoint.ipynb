{
 "cells": [
  {
   "cell_type": "markdown",
   "id": "4334240b-81da-4f89-a0de-fcc2e5387b98",
   "metadata": {},
   "source": [
    "## 主成分分析"
   ]
  },
  {
   "cell_type": "markdown",
   "id": "da60f44e-0296-4af5-a124-eec1c2289d97",
   "metadata": {},
   "source": [
    "### pca from scrach"
   ]
  },
  {
   "cell_type": "code",
   "execution_count": 2,
   "id": "2569034d-2446-4475-b697-17a4f55bd760",
   "metadata": {},
   "outputs": [],
   "source": [
    "import pandas as pd\n",
    "import numpy as np\n",
    "\n",
    "# サンプルデータ準備\n",
    "x = np.array([3, 4, 2, 3, 4, 4, 3])\n",
    "y = np.array([2, 3, 5, 5, 3, 2, 3])\n",
    "\n",
    "X = pd.DataFrame({'x': x, 'y': y})"
   ]
  },
  {
   "cell_type": "code",
   "execution_count": 8,
   "id": "5adfa78b-4683-41d6-acf7-82f093aa71d5",
   "metadata": {},
   "outputs": [],
   "source": [
    "def my_pca(X, num_components):\n",
    "    # 標準化\n",
    "    X_meaned = X - np.mean(X, axis=0)\n",
    "    X_scaled = X_meaned / np.std(X_meaned, axis=0)\n",
    "    \n",
    "    # 分散共分散行列\n",
    "    cov_mat = np.cov(X_scaled, rowvar=False)\n",
    "    \n",
    "    # 固有ベクトル, 固有値\n",
    "    eigen_values, eigen_vectors = np.linalg.eigh(cov_mat)\n",
    "    sorted_index = np.argsort(eigen_values)[::-1]\n",
    "    sorted_evalues = eigen_values[sorted_index]\n",
    "    sorted_evectors = eigen_values[:, sorted_index]\n",
    "    subset_evectors = sorted_evectors[:, :num_components]\n",
    "    \n",
    "    # 変換\n",
    "    X_reduced = np.dot(X_scaled, subset_evectors)\n",
    "    \n",
    "    return X_reduced"
   ]
  },
  {
   "cell_type": "code",
   "execution_count": 9,
   "id": "40593cea-9f79-43f4-85f5-0f09fcff30c7",
   "metadata": {},
   "outputs": [
    {
     "ename": "IndexError",
     "evalue": "too many indices for array: array is 1-dimensional, but 2 were indexed",
     "output_type": "error",
     "traceback": [
      "\u001b[0;31m---------------------------------------------------------------------------\u001b[0m",
      "\u001b[0;31mIndexError\u001b[0m                                Traceback (most recent call last)",
      "Input \u001b[0;32mIn [9]\u001b[0m, in \u001b[0;36m<cell line: 1>\u001b[0;34m()\u001b[0m\n\u001b[0;32m----> 1\u001b[0m \u001b[43mmy_pca\u001b[49m\u001b[43m(\u001b[49m\u001b[43mX\u001b[49m\u001b[43m,\u001b[49m\u001b[43m \u001b[49m\u001b[38;5;241;43m1\u001b[39;49m\u001b[43m)\u001b[49m\n",
      "Input \u001b[0;32mIn [8]\u001b[0m, in \u001b[0;36mmy_pca\u001b[0;34m(X, num_components)\u001b[0m\n\u001b[1;32m     11\u001b[0m sorted_index \u001b[38;5;241m=\u001b[39m np\u001b[38;5;241m.\u001b[39margsort(eigen_values)[::\u001b[38;5;241m-\u001b[39m\u001b[38;5;241m1\u001b[39m]\n\u001b[1;32m     12\u001b[0m sorted_evalues \u001b[38;5;241m=\u001b[39m eigen_values[sorted_index]\n\u001b[0;32m---> 13\u001b[0m sorted_evectors \u001b[38;5;241m=\u001b[39m \u001b[43meigen_values\u001b[49m\u001b[43m[\u001b[49m\u001b[43m:\u001b[49m\u001b[43m,\u001b[49m\u001b[43m \u001b[49m\u001b[43msorted_index\u001b[49m\u001b[43m]\u001b[49m\n\u001b[1;32m     14\u001b[0m subset_evectors \u001b[38;5;241m=\u001b[39m sorted_evectors[:, :num_components]\n\u001b[1;32m     16\u001b[0m \u001b[38;5;66;03m# 変換\u001b[39;00m\n",
      "\u001b[0;31mIndexError\u001b[0m: too many indices for array: array is 1-dimensional, but 2 were indexed"
     ]
    }
   ],
   "source": [
    "my_pca(X, 1)"
   ]
  },
  {
   "cell_type": "markdown",
   "id": "17372d23-030c-484a-bbe5-15a11675dadf",
   "metadata": {},
   "source": [
    "### pca from sklean"
   ]
  },
  {
   "cell_type": "code",
   "execution_count": 10,
   "id": "81681d40-d5d9-42be-8f19-fd25d377530a",
   "metadata": {},
   "outputs": [
    {
     "data": {
      "text/plain": [
       "array([[-0.49467432],\n",
       "       [-0.89576549],\n",
       "       [ 2.34350404],\n",
       "       [ 1.33314107],\n",
       "       [-0.89576549],\n",
       "       [-1.50503729],\n",
       "       [ 0.11459748]])"
      ]
     },
     "execution_count": 10,
     "metadata": {},
     "output_type": "execute_result"
    }
   ],
   "source": [
    "from sklearn.decomposition import PCA\n",
    "from sklearn.preprocessing import StandardScaler\n",
    "\n",
    "scaler = StandardScaler()\n",
    "X = scaler.fit_transform(X)\n",
    "pca = PCA(n_components=1)\n",
    "pca.fit_transform(X)"
   ]
  },
  {
   "cell_type": "code",
   "execution_count": null,
   "id": "fbfe3426-3bac-4249-b4f4-c7589b44e191",
   "metadata": {},
   "outputs": [],
   "source": []
  }
 ],
 "metadata": {
  "kernelspec": {
   "display_name": "Python 3 (ipykernel)",
   "language": "python",
   "name": "python3"
  },
  "language_info": {
   "codemirror_mode": {
    "name": "ipython",
    "version": 3
   },
   "file_extension": ".py",
   "mimetype": "text/x-python",
   "name": "python",
   "nbconvert_exporter": "python",
   "pygments_lexer": "ipython3",
   "version": "3.9.12"
  }
 },
 "nbformat": 4,
 "nbformat_minor": 5
}
